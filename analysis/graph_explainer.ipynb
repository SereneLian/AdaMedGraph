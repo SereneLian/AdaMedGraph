{
 "cells": [
  {
   "cell_type": "code",
   "execution_count": null,
   "metadata": {},
   "outputs": [],
   "source": [
    "import numpy as np\n",
    "import pandas as pd\n",
    "import torch\n",
    "import torch.nn as nn\n",
    "import torch.nn.functional as F\n",
    "from torch_geometric.data import Data\n",
    "from torch_geometric.nn.conv import APPNP\n",
    "import networkx as nx \n",
    "\n",
    "device = torch.device('cuda:0' if torch.cuda.is_available() else 'cpu')\n",
    "print(device)"
   ]
  },
  {
   "cell_type": "code",
   "execution_count": null,
   "metadata": {},
   "outputs": [],
   "source": [
    "# define single APPNP\n",
    "class APPNP_model(nn.Module):\n",
    "    def __init__(self, in_feats, hid_feats, out_feats=3, dropout=0, k=10, alpha=0.1,edge_drop=0, normalize =False):\n",
    "        super(APPNP_model, self).__init__()\n",
    "        self.lin1 = nn.Sequential(\n",
    "                nn.Dropout(p=dropout),\n",
    "                nn.Linear(in_feats, hid_feats),\n",
    "                nn.ReLU(),\n",
    "                nn.Dropout(p=dropout),\n",
    "                nn.Linear(hid_feats, out_feats),\n",
    "            )\n",
    "        self.drop_out = nn.Dropout(p=dropout)\n",
    "        self.l1 = APPNP(K=k, alpha=alpha, dropout=edge_drop)\n",
    "\n",
    "    def forward(self, x, edge):\n",
    "        h = self.lin1(x)\n",
    "        # h = self.drop_out(h)\n",
    "        logits = self.l1(h, edge)\n",
    "        return logits"
   ]
  },
  {
   "cell_type": "code",
   "execution_count": null,
   "metadata": {},
   "outputs": [],
   "source": [
    "# defien the task\n",
    "path = ''\n",
    "task =''\n",
    "label_tar=['Label_NHY','Label_NP1TOT','Label_NP2PTOT','Label_NP3TOT', 'Label_NPTOT','Label_NP3_Axial','Label_NP3_Tremor',\n",
    "'Label_NP3_Akinetic_Rigid','Label_MoCA_score','Label_ESS_TOT']\n",
    "# load data\n",
    "train_data = pd.read_csv(path+'ppmi_'+task+'_train''.csv')\n",
    "test_data = pd.read_csv(path+'ppmi_'+task+'_test'+'.csv')\n",
    "# load features\n",
    "feature_cols = np.loadtxt(path+'ppmi_node.txt', dtype=str)\n",
    "f = [train_data, test_data]\n",
    "pd_patients_all = pd.concat(f)\n",
    "pd_patients_all.reset_index(inplace=True, drop=True)"
   ]
  },
  {
   "cell_type": "code",
   "execution_count": null,
   "metadata": {},
   "outputs": [],
   "source": [
    "# model path\n",
    "m_path= ''  # load model dictionary\n",
    "rec_path = '' # load the best results error record json file\n",
    "file = open(rec_path, 'r') \n",
    "record = file.read()\n",
    "record = record.split(\"'edge':\")\n",
    "record = record[1:]\n",
    "modelf = record[-1].split(\"['hid', 'dropout', 'k', 'alpha', 'weight decay', 'lr'],\")[-1][2:-2].split()"
   ]
  },
  {
   "cell_type": "code",
   "execution_count": null,
   "metadata": {},
   "outputs": [],
   "source": [
    "def Sim_func(a1,a2,thresh): \n",
    "    c_score = 0\n",
    "    if abs(a1-a2) <= thresh:\n",
    "        c_score +=1\n",
    "    return c_score\n",
    "\n",
    "def age_adj_matrix(patient_info, edge_f, thresh):\n",
    "    edge_feature = patient_info[edge_f].to_list()\n",
    "    edge_list=[]\n",
    "    edge_wight=[]\n",
    "    n_sample = len(edge_feature)\n",
    "    adj = np.zeros((n_sample, n_sample))\n",
    "    for i in range(n_sample):\n",
    "        for j in range(n_sample):\n",
    "            adj[i,j] = Sim_func(edge_feature[i],edge_feature[j], thresh)\n",
    "            if adj[i,j] != 0:\n",
    "                edge_list.append([int(i),int(j)])\n",
    "                edge_wight.append(adj[i,j])\n",
    "    return adj, edge_list,edge_wight\n",
    "\n",
    "def age_graph_bulider(all_data, label, feature_cols, edge_f, thresh):\n",
    "    # save the labels\n",
    "    norm_label_sh = all_data[label]\n",
    "    labels_sh = torch.from_numpy(norm_label_sh.to_numpy()).long()\n",
    "    node_feature_sh = torch.from_numpy(all_data[feature_cols].to_numpy()).float()\n",
    "    adj_sh, edge_list_sh, edge_wight_sh = age_adj_matrix(all_data, edge_f, thresh)\n",
    "    edge_list_sh = torch.tensor(edge_list_sh)\n",
    "    # print(edge_list_sh)\n",
    "    g_sh = Data(x = node_feature_sh, edge_index=edge_list_sh.t().contiguous(), y = labels_sh)\n",
    "    return g_sh\n",
    "\n",
    "\n",
    "def nx_graph_bulider(all_data, label, feature_cols, edge_f, thresh):\n",
    "    # save the labels\n",
    "    norm_label_sh = all_data[label]\n",
    "    labels_sh = norm_label_sh.to_numpy()\n",
    "    node_feature_sh = all_data[feature_cols].to_numpy()\n",
    "    adj_sh, edge_list_sh, edge_wight_sh = age_adj_matrix(all_data, edge_f, thresh)\n",
    "    rows, cols = np.where(adj_sh == 1)\n",
    "    edges = zip(rows.tolist(), cols.tolist())\n",
    "    g = nx.Graph()\n",
    "    g.add_edges_from(edges)\n",
    "    for i in g.nodes:\n",
    "        g.nodes[i][\"label\"] = labels_sh[i]\n",
    "    return g\n",
    "    \n",
    "def re_build_graph(record, i, c_label, re_cal_thred=False):\n",
    "    rec = record[i].split(',')\n",
    "    print(rec)\n",
    "    dege_f = rec[0][2:-1]\n",
    "    thred = float(rec[1].split(': ')[1])\n",
    "    print(dege_f)\n",
    "    if re_cal_thred:\n",
    "        thred = pd_patients_all[dege_f].quantile(thred)\n",
    "    print(thred)\n",
    "    graph = age_graph_bulider(pd_patients_all, c_label, feature_cols, dege_f, thred)\n",
    "    graph_nx = nx_graph_bulider(pd_patients_all, c_label, feature_cols, dege_f, thred)\n",
    "\n",
    "    return dege_f, graph, graph_nx"
   ]
  },
  {
   "cell_type": "code",
   "execution_count": null,
   "metadata": {},
   "outputs": [],
   "source": [
    "i=0 # the first important graph\n",
    "edge, graph, g_nx = re_build_graph(record, i, 'Label_NHY', re_cal_thred=True)\n",
    "# model_path = m_path+'models/'+'search_'+f_method+c_label+'model_'+str(i-1)+'.pt'÷\n",
    "model_path = m_path+str(i)+'.pt'\n",
    "print(model_path)\n",
    "# in_feats, hid_feats, out_feats=3, dropout=0, k=10, alpha=0.1,\n",
    "model = APPNP_model(in_feats=len(feature_cols), hid_feats=int(modelf[0][:-1]), out_feats=3, dropout=float(modelf[1][:-1]), k=int(modelf[2][1:-2]), alpha=float(modelf[3][:-1]))\n",
    "model.load_state_dict(torch.load(model_path))\n",
    "model = model.to(device)"
   ]
  },
  {
   "cell_type": "markdown",
   "metadata": {},
   "source": [
    "Single graph explain"
   ]
  },
  {
   "cell_type": "code",
   "execution_count": null,
   "metadata": {},
   "outputs": [],
   "source": [
    "from torch_geometric.explain import Explainer, GNNExplainer"
   ]
  },
  {
   "cell_type": "code",
   "execution_count": null,
   "metadata": {},
   "outputs": [],
   "source": [
    "# explain the first important graph\n",
    "\n",
    "# from torch_geometric.explain import Explainer, \n",
    "graph_device=graph.to(device)\n",
    "explainer = Explainer(\n",
    "    model=model,\n",
    "    algorithm=GNNExplainer(epochs=200), # you can define your own explainer\n",
    "    explanation_type='model',\n",
    "    node_mask_type='attributes',\n",
    "    edge_mask_type='object',\n",
    "    model_config=dict(\n",
    "        mode='multiclass_classification',\n",
    "        task_level='node',\n",
    "        return_type='log_probs',  # Model returns log probabilities.\n",
    "    ),\n",
    ")\n",
    "explanation = explainer(graph_device.x, graph_device.edge_index)\n",
    "print(f'Generated explanations in {explanation.available_explanations}')\n",
    "\n",
    "path = ''\n",
    "explanation.visualize_feature_importance(path, top_k=15)"
   ]
  },
  {
   "cell_type": "code",
   "execution_count": null,
   "metadata": {},
   "outputs": [],
   "source": [
    "d = dict(g_nx.nodes(data=\"label\"))\n",
    "\n",
    "ind = 72 # find the interested patient id\n",
    "ns = [n for n in g_nx.neighbors(ind)]\n",
    "print(len(ns))\n",
    "print(g_nx.nodes[ind]['label'])\n",
    "\n",
    "labelss = [g_nx.nodes[n]['label'] for n in ns]\n",
    "df = pd.DataFrame()\n",
    "df['neighbor'] = ns\n",
    "df['label'] = labelss\n",
    "df.label.value_counts() # get the neighbour labels distribution"
   ]
  },
  {
   "cell_type": "code",
   "execution_count": null,
   "metadata": {},
   "outputs": [],
   "source": []
  }
 ],
 "metadata": {
  "kernelspec": {
   "display_name": "PD",
   "language": "python",
   "name": "python3"
  },
  "language_info": {
   "codemirror_mode": {
    "name": "ipython",
    "version": 3
   },
   "file_extension": ".py",
   "mimetype": "text/x-python",
   "name": "python",
   "nbconvert_exporter": "python",
   "pygments_lexer": "ipython3",
   "version": "3.8.17"
  },
  "orig_nbformat": 4
 },
 "nbformat": 4,
 "nbformat_minor": 2
}
