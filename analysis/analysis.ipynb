{
 "cells": [
  {
   "cell_type": "code",
   "execution_count": null,
   "metadata": {},
   "outputs": [],
   "source": [
    "import numpy as np\n",
    "import pandas as pd\n",
    "import warnings\n",
    "warnings.filterwarnings(action='ignore')\n",
    "import matplotlib.pyplot as plt\n",
    "import seaborn as sns\n",
    "from statannot import add_stat_annotation\n",
    "import os"
   ]
  },
  {
   "cell_type": "code",
   "execution_count": null,
   "metadata": {},
   "outputs": [],
   "source": [
    "f_path = 'new_results/'+'/feature_importance/'\n",
    "fp_path='new_results/'+'/feature_plot/'\n",
    "path = 'new_data/'\n",
    "test_kind = \"t-test_ind\" # select the proper test\n",
    "dataset = 'ppmi_' # 'ppmi_' for ppmi single, ppmi_pdbp_ for conbine (analysis one)\n",
    "data_tt = pd.read_csv(path+dataset+'12'+'_train.csv')\n",
    "data_t = pd.read_csv(path+dataset+'12'+'_test.csv')\n",
    "data = pd.concat([data_tt, data_t], ignore_index=True)\n",
    "data2tt = pd.read_csv(path+dataset+'24'+'_train.csv')\n",
    "data2t = pd.read_csv(path+dataset+'24'+'_test.csv')\n",
    "data2 = pd.concat([data2tt, data2t], ignore_index=True)\n",
    "\n",
    "data3tt = pd.read_csv(path+dataset+'36'+'_train.csv')\n",
    "data3t = pd.read_csv(path+dataset+'36'+'_test.csv')\n",
    "\n",
    "data3 = pd.concat([data3tt, data3t], ignore_index=True)\n",
    "mri_features = list(np.loadtxt('new_data/mri.txt', dtype=str))\n",
    "\n",
    "data_all = pd.read_csv(path+'PPMI_pdbp_M0_36_latest.csv')\n",
    "tars=['NP1TOT','NP2PTOT','NP3TOT', 'NPTOT','NP3_Axial','NP3_Tremor','NP3_Akinetic_Rigid','NHY','MoCA_score','ESS_TOT']\n",
    "newtitle = ['MDS-UPDRS I', 'MDS-UPDRS II', 'MDS-UPDRS III', 'MDS-UPDRS Total', 'MDS-UPDRS Axial', 'MDS-UPDRS Tremor',\n",
    "'MDS-UPDRS Rigidity', 'HY', 'MoCA', \"ESS\"]\n",
    "label_tar = ['Label_'+ t for t in tars]\n",
    "change_tar = ['Change_'+ t for t in tars]\n"
   ]
  },
  {
   "cell_type": "code",
   "execution_count": null,
   "metadata": {},
   "outputs": [],
   "source": [
    "change12 = data\n",
    "change24 = data2\n",
    "change36 = data3\n",
    "change12['month'] = [12 for t in range(len(change12))]\n",
    "change24['month'] = [24 for t in range(len(change24))]\n",
    "change36['month'] = [36 for t in range(len(change36))]\n",
    "f = [change12, change24, change36]\n",
    "change_all = pd.concat(f, ignore_index=True)"
   ]
  },
  {
   "cell_type": "code",
   "execution_count": null,
   "metadata": {},
   "outputs": [],
   "source": [
    "for tar in label_tar:\n",
    "    change_all[tar].replace({0: \"Better\", 1: 'No Change', 2:'Worse'}, inplace=True)"
   ]
  },
  {
   "cell_type": "code",
   "execution_count": null,
   "metadata": {},
   "outputs": [],
   "source": [
    "data_all['EVENT_ID'].replace({'V04': \"12\", 'V06': '24', 'V08':'36'}, inplace=True)"
   ]
  },
  {
   "cell_type": "markdown",
   "metadata": {},
   "source": [
    "# label changes"
   ]
  },
  {
   "cell_type": "code",
   "execution_count": null,
   "metadata": {},
   "outputs": [],
   "source": [
    "fig, axes = plt.subplots(2, 5, figsize=(40, 20))\n",
    "axes_list = []\n",
    "sns.set_theme(style=\"whitegrid\")\n",
    "sns.set_context('notebook', rc={\n",
    " 'axes.titlesize': 30.0,\n",
    " 'xtick.labelsize': 30.0,\n",
    " 'ytick.labelsize': 30.0,})\n",
    "for i in range(axes.shape[0]):\n",
    "    for j in range(axes.shape[1]):\n",
    "        axes_list.append(axes[i, j]) \n",
    "for i in range(len(axes_list)):\n",
    "    ax = axes_list[i]\n",
    "    y =sns.boxplot(data =data_all, x='EVENT_ID', y=tars[i], ax=ax)\n",
    "    add_stat_annotation(\n",
    "    ax, data=data_all,x='EVENT_ID',y=tars[i],\n",
    "    box_pairs=[('BL', \"12\"), ('12', \"24\"), ('24', \"36\")],\n",
    "    test=test_kind, text_format=\"star\",loc=\"inside\", fontsize=25)\n",
    "    y.set(title=newtitle[i])\n",
    "    y.set(xlabel=None, ylabel=None)\n",
    "\n",
    "fig.savefig('new_results/feature_plot/ppmi_label_change.png', dpi=350)"
   ]
  },
  {
   "cell_type": "markdown",
   "metadata": {},
   "source": [
    "## HY and NP3TTAPL"
   ]
  },
  {
   "cell_type": "code",
   "execution_count": null,
   "metadata": {},
   "outputs": [],
   "source": [
    "change_all['NP3TTAPL'] =3*change_all['NP3TTAPL']\n",
    "\n",
    "label_cols = 'NP3TTAPL'\n",
    "intersted_cols = 'Label_NHY'\n",
    "sns.set(style=\"whitegrid\")\n",
    "ax = sns.barplot(data=change_all, x='month', y=label_cols, hue=intersted_cols, palette=\"Blues\").set(xlabel=None, ylabel=None)\n",
    "plt.savefig(fp_path+'NP3TTAPL_'+'Label_NHY.png', dpi=350)\n"
   ]
  },
  {
   "cell_type": "markdown",
   "metadata": {},
   "source": [
    "# Gene and label"
   ]
  },
  {
   "cell_type": "markdown",
   "metadata": {},
   "source": [
    "PRS90"
   ]
  },
  {
   "cell_type": "code",
   "execution_count": null,
   "metadata": {},
   "outputs": [],
   "source": [
    "# U3\n",
    "# matplotlib.rcParams['font.serif'] = ['Times New Roman']\n",
    "ind =2\n",
    "print(label_tar[ind])\n",
    "change_all.sort_values(label_tar[ind], inplace=True)\n",
    "ax =sns.barplot(data =change_all, x='month', y='PRS90', hue=label_tar[ind])\n",
    "add_stat_annotation(\n",
    "    ax, data=change_all,x='month',y='PRS90',hue=label_tar[ind],\n",
    "    box_pairs=[\n",
    "        ((12, \"Worse\"), (12, \"Better\")),((12, \"No Change\"), (12, \"Better\")), ((12, \"No Change\"), (12, \"Worse\")),\n",
    "        ((24, \"Worse\"), (24, \"Better\")),((24, \"No Change\"), (24, \"Better\")), ((24, \"No Change\"), (24, \"Worse\")),\n",
    "        ((36, \"Worse\"), (36, \"Better\")),((36, \"No Change\"), (36, \"Better\")), ((36, \"No Change\"), (36, \"Worse\")),\n",
    "    ],\n",
    "    test=test_kind, text_format=\"star\",loc=\"inside\",)\n",
    "ax.set(xlabel=None, ylabel=None)\n",
    "plt.savefig(fp_path+'PRS90_'+label_tar[ind]+'.png', dpi=350)\n",
    "\n"
   ]
  },
  {
   "cell_type": "code",
   "execution_count": null,
   "metadata": {},
   "outputs": [],
   "source": [
    "# U2\n",
    "ind =1\n",
    "print(label_tar[ind])\n",
    "change_all.sort_values(label_tar[ind], inplace=True)\n",
    "ax =sns.barplot(data =change_all, x='month', y='PRS90', hue=label_tar[ind])\n",
    "add_stat_annotation(\n",
    "    ax, data=change_all,x='month',y='PRS90',hue=label_tar[ind],\n",
    "    box_pairs=[\n",
    "        ((12, \"Worse\"), (12, \"Better\")),((12, \"No Change\"), (12, \"Better\")), ((12, \"No Change\"), (12, \"Worse\")),\n",
    "        ((24, \"Worse\"), (24, \"Better\")),((24, \"No Change\"), (24, \"Better\")), ((24, \"No Change\"), (24, \"Worse\")),\n",
    "        ((36, \"Worse\"), (36, \"Better\")),((36, \"No Change\"), (36, \"Better\")), ((36, \"No Change\"), (36, \"Worse\")),\n",
    "    ],\n",
    "    test=test_kind, text_format=\"star\")\n",
    "ax.set(xlabel=None, ylabel=None)\n",
    "\n",
    "plt.savefig(fp_path+'PRS90_'+label_tar[ind]+'.png', dpi=350)"
   ]
  },
  {
   "cell_type": "code",
   "execution_count": null,
   "metadata": {},
   "outputs": [],
   "source": [
    "# MoCA\n",
    "ind =-2\n",
    "print(label_tar[ind])\n",
    "change_all.sort_values(label_tar[ind], inplace=True)\n",
    "ax =sns.barplot(data =change_all, x='month', y='PRS90', hue=label_tar[ind])\n",
    "add_stat_annotation(\n",
    "    ax, data=change_all,x='month',y='PRS90',hue=label_tar[ind],\n",
    "    box_pairs=[\n",
    "        ((12, \"Worse\"), (12, \"Better\")),((12, \"No Change\"), (12, \"Better\")), ((12, \"No Change\"), (12, \"Worse\")),\n",
    "        ((24, \"Worse\"), (24, \"Better\")),((24, \"No Change\"), (24, \"Better\")), ((24, \"No Change\"), (24, \"Worse\")),\n",
    "        ((36, \"Worse\"), (36, \"Better\")),((36, \"No Change\"), (36, \"Better\")), ((36, \"No Change\"), (36, \"Worse\")),\n",
    "    ],\n",
    "    test=test_kind, text_format=\"star\")\n",
    "# plt.legend(loc='upper right')\n",
    "ax.set(xlabel=None, ylabel=None)\n",
    "\n",
    "plt.savefig(fp_path+'PRS90_'+label_tar[ind]+'.png', dpi=350)"
   ]
  },
  {
   "cell_type": "markdown",
   "metadata": {},
   "source": [
    "APOE4"
   ]
  },
  {
   "cell_type": "code",
   "execution_count": null,
   "metadata": {},
   "outputs": [],
   "source": [
    "APOE_E4 =[]\n",
    "for i in change_all['APOE_E4']:\n",
    "    if i==0:\n",
    "        APOE_E4.append('Negative')\n",
    "    else:\n",
    "        APOE_E4.append('Positive')\n",
    "change_all['APOE_E4_Status'] = APOE_E4"
   ]
  },
  {
   "cell_type": "code",
   "execution_count": null,
   "metadata": {},
   "outputs": [],
   "source": [
    "# Change_NP1SLPN, night sleep\n",
    "# Change_NP1SLPD, day sleep\n",
    "# Change_NP1COG, cogntive impairments\n",
    "# Change_ESS_TOT\n",
    "label_cols = 'Change_ESS_TOT'\n",
    "intersted_cols = 'APOE_E4_Status'\n",
    "sns.set_theme(style=\"whitegrid\")\n",
    "sns.set_context('notebook', rc={\n",
    " 'axes.titlesize': 20.0,\n",
    " 'xtick.labelsize': 20.0,\n",
    " 'ytick.labelsize': 20.0,})\n",
    "order = ['Negative', 'Positive']\n",
    "# ax = sns.violinplot(data=change_all, x='month', y=label_cols, hue=intersted_cols, palette=\"Blues\")\n",
    "ax = sns.violinplot(data=change_all, x='month', y=label_cols, hue=intersted_cols, palette=\"Blues\")\n",
    "\n",
    "add_stat_annotation(ax, data=change_all, x='month', y=label_cols, hue=intersted_cols,\n",
    "                    box_pairs=[\n",
    "                                ((12, \"Negative\"), (12, \"Positive\")),\n",
    "                                ((24, \"Negative\"), (24, \"Positive\")),\n",
    "                                ((36, \"Negative\"), (36, \"Positive\")),\n",
    "                                ],\n",
    "                    test=test_kind, text_format='star', loc='outside', verbose=2, fontsize=15)\n",
    "ax.set(xlabel=None, ylabel=None)\n",
    "plt.savefig(fp_path+'APOE_'+label_cols+'.png', dpi=350)"
   ]
  },
  {
   "cell_type": "markdown",
   "metadata": {},
   "source": [
    "# Medication"
   ]
  },
  {
   "cell_type": "code",
   "execution_count": null,
   "metadata": {},
   "outputs": [],
   "source": [
    "ledd_df = pd.read_csv('new_data/ledd_new.csv')[['PATNO', 'EVENT_ID', 'LEDD']]\n",
    "int_env = ['BL', 'V04', 'V06', 'V08']\n",
    "ledd_df = ledd_df[ledd_df.EVENT_ID.isin(int_env)]\n",
    "ledd_df.rename(columns={'LEDD':'LEDD_ontime', 'EVENT_ID':'month'}, inplace=True)\n",
    "ledd_df['month'].replace({'BL': 0, 'V04': 12, 'V06':24, 'V08':36}, inplace=True)\n"
   ]
  },
  {
   "cell_type": "code",
   "execution_count": null,
   "metadata": {},
   "outputs": [],
   "source": [
    "def ledd_change(ledd_df, t):\n",
    "    pats = []\n",
    "    ld = []\n",
    "    for pat in set(ledd_df.PATNO):\n",
    "        df = ledd_df[ledd_df.PATNO==pat]\n",
    "        if len(df)>1:\n",
    "            BL = df[df.month==0]['LEDD_ontime'].values[0]\n",
    "            tar_df = df[df.month==t]\n",
    "            if len(tar_df)>0:\n",
    "                minus = tar_df['LEDD_ontime'].values[0] -BL\n",
    "                pats.append(int(pat))\n",
    "                ld.append(minus)\n",
    "    ledd_df_new = pd.DataFrame()\n",
    "    ledd_df_new['PATNO'] = pats\n",
    "    ledd_df_new['Change of LEDD'] =ld\n",
    "    ledd_df_new['month'] =[t for i in range(len(pats))]\n",
    "    return ledd_df_new\n",
    "\n"
   ]
  },
  {
   "cell_type": "code",
   "execution_count": null,
   "metadata": {},
   "outputs": [],
   "source": [
    "ledd_df_12 = ledd_change(ledd_df, 12)\n",
    "ledd_df_24 = ledd_change(ledd_df, 24)\n",
    "ledd_df_36 = ledd_change(ledd_df, 36)\n",
    "ledd_change = pd.concat([ledd_df_12, ledd_df_24, ledd_df_36], ignore_index=True)\n",
    "change_all=change_all.merge(ledd_change, on = ['PATNO', 'month'], how='inner')"
   ]
  },
  {
   "cell_type": "code",
   "execution_count": null,
   "metadata": {},
   "outputs": [],
   "source": [
    "med_increase = []\n",
    "for l in change_all['Change of LEDD'].to_list():\n",
    "    if l>0:\n",
    "        med_increase.append('Increased')\n",
    "    else:\n",
    "        med_increase.append('Non-Increased')\n",
    "\n",
    "change_all['Medication increased or not'] = med_increase"
   ]
  },
  {
   "cell_type": "code",
   "execution_count": null,
   "metadata": {},
   "outputs": [],
   "source": [
    "def tremer(bs_patients_new):\n",
    "    bs_patients_new['Change_NP3_RestTremer'] = bs_patients_new['Change_NP3RTALJ']+bs_patients_new['Change_NP3RTALL']+bs_patients_new['Change_NP3RTALU']+bs_patients_new['Change_NP3RTARL']+bs_patients_new['Change_NP3RTARU']\n",
    "    bs_patients_new['Change_MotorTremer'] = bs_patients_new['NP3_Tremor']- bs_patients_new['Change_NP3_RestTremer']\n",
    "    return bs_patients_new\n",
    "change_all =  tremer(change_all)"
   ]
  },
  {
   "cell_type": "code",
   "execution_count": null,
   "metadata": {},
   "outputs": [],
   "source": [
    "t = change_all[(change_all['month']==36)]\n",
    "len(t[t['Medication increased or not']=='Increased']['Change_NP3_RestTremer'])"
   ]
  },
  {
   "cell_type": "code",
   "execution_count": null,
   "metadata": {},
   "outputs": [],
   "source": [
    "label_cols = 'Change_NP3_RestTremer'\n",
    "sns.set_theme(style=\"whitegrid\")\n",
    "sns.set_context('notebook', rc={\n",
    " 'axes.titlesize': 20.0,\n",
    " 'xtick.labelsize': 20.0,\n",
    " 'ytick.labelsize': 20.0,})\n",
    "ax = sns.barplot(data=change_all, x='month', y=label_cols, hue='Medication increased or not')\n",
    "add_stat_annotation(ax, data=change_all, x='month', y=label_cols, hue='Medication increased or not',\n",
    "                    box_pairs=[\n",
    "                                ((12, \"Increased\"), (12, \"Non-Increased\")),\n",
    "                                ((24, \"Increased\"), (24, \"Non-Increased\")),\n",
    "                                ((36, \"Increased\"), (36, \"Non-Increased\")),\n",
    "                                ],\n",
    "                    test=test_kind, text_format='star', loc='outside', verbose=2,fontsize=15)\n",
    "ax.set(xlabel=None, ylabel=None)\n",
    "plt.savefig(fp_path+'Medication_'+label_cols+'.png', dpi=350)"
   ]
  },
  {
   "cell_type": "code",
   "execution_count": null,
   "metadata": {},
   "outputs": [],
   "source": [
    "label_cols = 'Change_MotorTremer'\n",
    "sns.set_theme(style=\"whitegrid\")\n",
    "sns.set_context('notebook', rc={\n",
    " 'axes.titlesize': 20.0,\n",
    " 'xtick.labelsize': 20.0,\n",
    " 'ytick.labelsize': 20.0,})\n",
    "ax = sns.barplot(data=change_all, x='month', y=label_cols, hue='Medication increased or not')\n",
    "add_stat_annotation(ax, data=change_all, x='month', y=label_cols, hue='Medication increased or not',\n",
    "                    box_pairs=[\n",
    "                                ((12, \"Increased\"), (12, \"Non-Increased\")),\n",
    "                                ((24, \"Increased\"), (24, \"Non-Increased\")),\n",
    "                                ((36, \"Increased\"), (36, \"Non-Increased\")),\n",
    "                                ],\n",
    "                    test=test_kind, text_format='star', loc='outside', verbose=2,fontsize=15)\n",
    "ax.set(xlabel=None, ylabel=None)\n",
    "plt.savefig(fp_path+'Medication_'+label_cols+'.png', dpi=350)"
   ]
  },
  {
   "cell_type": "code",
   "execution_count": null,
   "metadata": {},
   "outputs": [],
   "source": [
    "label_cols = 'Change_NP3_Akinetic_Rigid'\n",
    "sns.set_theme(style=\"whitegrid\")\n",
    "sns.set_context('notebook', rc={\n",
    " 'axes.titlesize': 20.0,\n",
    " 'xtick.labelsize': 20.0,\n",
    " 'ytick.labelsize': 20.0,})\n",
    "ax = sns.barplot(data=change_all, x='month', y=label_cols, hue='Medication increased or not')\n",
    "add_stat_annotation(ax, data=change_all, x='month', y=label_cols, hue='Medication increased or not',\n",
    "                    box_pairs=[\n",
    "                                ((12, \"Increased\"), (12, \"Non-Increased\")),\n",
    "                                ((24, \"Increased\"), (24, \"Non-Increased\")),\n",
    "                                ((36, \"Increased\"), (36, \"Non-Increased\")),\n",
    "                                ],\n",
    "                    test=test_kind, text_format='star', loc='outside', verbose=2,fontsize=15)\n",
    "ax.set(xlabel=None, ylabel=None)\n",
    "\n",
    "# plt.savefig(fp_path+'Medication_'+label_cols+'.png', dpi=350)"
   ]
  },
  {
   "cell_type": "code",
   "execution_count": null,
   "metadata": {},
   "outputs": [],
   "source": [
    "label_cols = 'Change_NP3_Axial'\n",
    "sns.set_theme(style=\"whitegrid\")\n",
    "sns.set_context('notebook', rc={\n",
    " 'axes.titlesize': 20.0,\n",
    " 'xtick.labelsize': 20.0,\n",
    " 'ytick.labelsize': 20.0,})\n",
    "ax = sns.barplot(data=change_all, x='month', y=label_cols, hue='Medication increased or not')\n",
    "add_stat_annotation(ax, data=change_all, x='month', y=label_cols, hue='Medication increased or not',\n",
    "                    box_pairs=[\n",
    "                                ((12, \"Increased\"), (12, \"Non-Increased\")),\n",
    "                                ((24, \"Increased\"), (24, \"Non-Increased\")),\n",
    "                                ((36, \"Increased\"), (36, \"Non-Increased\")),\n",
    "                                ],\n",
    "                    test=test_kind, text_format='star', loc='outside', verbose=2, fontsize=15)\n",
    "ax.set(xlabel=None, ylabel=None)\n",
    "plt.savefig(fp_path+'Medication_'+label_cols+'.png', dpi=350)"
   ]
  },
  {
   "cell_type": "code",
   "execution_count": null,
   "metadata": {},
   "outputs": [],
   "source": []
  }
 ],
 "metadata": {
  "kernelspec": {
   "display_name": "dlung",
   "language": "python",
   "name": "python3"
  },
  "language_info": {
   "codemirror_mode": {
    "name": "ipython",
    "version": 3
   },
   "file_extension": ".py",
   "mimetype": "text/x-python",
   "name": "python",
   "nbconvert_exporter": "python",
   "pygments_lexer": "ipython3",
   "version": "3.8.17"
  },
  "orig_nbformat": 4
 },
 "nbformat": 4,
 "nbformat_minor": 2
}
