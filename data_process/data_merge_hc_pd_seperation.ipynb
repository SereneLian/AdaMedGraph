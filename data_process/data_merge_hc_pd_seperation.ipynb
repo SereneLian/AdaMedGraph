{
 "cells": [
  {
   "attachments": {},
   "cell_type": "markdown",
   "metadata": {},
   "source": [
    "Merge the motor and non-motor measures while also selecting only enrolled patients. Reconcile 'INFODT' errors using the signature form csv."
   ]
  },
  {
   "cell_type": "code",
   "execution_count": null,
   "metadata": {},
   "outputs": [],
   "source": [
    "import pandas as pd\n",
    "import numpy as np"
   ]
  },
  {
   "cell_type": "code",
   "execution_count": null,
   "metadata": {},
   "outputs": [],
   "source": [
    "path = ''\n",
    "non_motor = pd.read_csv(path+'non-motor.csv') #note that this is the processed data created by 'Non_Motor_Data_Processing.ipynb'\n",
    "motor = pd.read_csv(path+'motor.csv') #note that this is the processed data created by 'Motor_Data_Processing.ipynb'\n",
    "demographics = pd.read_csv(path+'demographics.csv') #note that this is the processed data created by 'Demographics_Data_Processing.ipynb'"
   ]
  },
  {
   "cell_type": "code",
   "execution_count": null,
   "metadata": {},
   "outputs": [],
   "source": [
    "print(len(demographics))\n",
    "demographics.head()"
   ]
  },
  {
   "cell_type": "code",
   "execution_count": null,
   "metadata": {},
   "outputs": [],
   "source": [
    "pd_ids = demographics[(~demographics.ENROLL_DATE.isnull()) & (demographics.COHORT==1.0)].PATNO #PD cohort\n",
    "hc_ids = demographics[(~demographics.ENROLL_DATE.isnull()) & (demographics.COHORT==2.0)].PATNO #HC cohort"
   ]
  },
  {
   "cell_type": "code",
   "execution_count": null,
   "metadata": {},
   "outputs": [],
   "source": [
    "print(len(pd_ids), len(hc_ids))"
   ]
  },
  {
   "cell_type": "code",
   "execution_count": null,
   "metadata": {},
   "outputs": [],
   "source": [
    "df = motor.merge(non_motor, how='outer', on=['PATNO','EVENT_ID','INFODT'])\n",
    "df = df[(df.PATNO.isin(pd_ids)) | (df.PATNO.isin(hc_ids))]\n",
    "print(len(df))\n",
    "df.drop_duplicates(inplace=True)\n",
    "print(len(df))\n"
   ]
  },
  {
   "cell_type": "code",
   "execution_count": null,
   "metadata": {},
   "outputs": [],
   "source": [
    "df['PAG_NAME'].value_counts()"
   ]
  },
  {
   "cell_type": "code",
   "execution_count": null,
   "metadata": {},
   "outputs": [],
   "source": [
    "# create a data frame taking only the on measurements when paired testing was performed\n",
    "pd_on = pd.DataFrame(columns = df.columns)\n",
    "reconcile_pn = []\n",
    "reconcile_ei = []\n",
    "for pn in pd_ids:\n",
    "    for ei in df[df.PATNO==pn].EVENT_ID.unique():\n",
    "        rec = df[(df.PATNO==pn) & (df.EVENT_ID==ei)]\n",
    "        if len(rec) > 1:\n",
    "            # one event has two or more records\n",
    "            if (rec.PAG_NAME != 'NUPDRS3A').all():\n",
    "                # print(pn, ei)\n",
    "                reconcile_pn.append(pn)\n",
    "                reconcile_ei.append(ei)\n",
    "            else:\n",
    "                # NUPDRS3A is ON State\n",
    "                on_rec = df[(df.PATNO==pn) & (df.EVENT_ID==ei) & (df.PAG_NAME=='NUPDRS3A')]\n",
    "                pd_on = pd.concat([pd_on,on_rec],ignore_index=True)\n",
    "        else:\n",
    "                pd_on = pd.concat([pd_on,rec],ignore_index=True)\n"
   ]
  },
  {
   "cell_type": "code",
   "execution_count": null,
   "metadata": {},
   "outputs": [],
   "source": [
    "pd_on.drop_duplicates(inplace=True)\n",
    "print(len(pd_on))"
   ]
  },
  {
   "cell_type": "code",
   "execution_count": null,
   "metadata": {},
   "outputs": [],
   "source": [
    "\n",
    "interest_cols = [\n",
    "'NP1COG',\n",
    "'NP1HALL',\n",
    "'NP1DPRS',\n",
    "'NP1ANXS',\n",
    "'NP1APAT',\n",
    "'NP1DDS',\n",
    "'NP1SLPN',\n",
    "'NP1SLPD',\n",
    "'NP1PAIN',\n",
    "'NP1URIN',\n",
    "'NP1CNST',\n",
    "'NP1LTHD', # U1 scores\n",
    "'NP1FATG',\n",
    "'NP2SPCH',\n",
    "'NP2SALV',\n",
    "'NP2SWAL',\n",
    "'NP2EAT',\n",
    "'NP2DRES',\n",
    "'NP2HYGN',\n",
    "'NP2HWRT',\n",
    "'NP2HOBB',\n",
    "'NP2TURN',\n",
    "'NP2TRMR',\n",
    "'NP2RISE',\n",
    "'NP2WALK',\n",
    "'NP2FREZ', # u2 scores\n",
    "'MSEADLG', # Modifier S and E overall score\n",
    "'PAG_NAME', # U3, to see whether on or off\n",
    "'DYSKPRES', # U3 3.19, whether dyskinesias persents\n",
    "'DYSKIRAT', # U3 3.20\n",
    "'NHY', # U3 3.21\n",
    "'PDSTATE', # U3 which function is participants currently in, ON/OFF\n",
    "'PDTRTMNT',# U3 is participants on medication or DBS\n",
    "'NP3SPCH',\n",
    "'NP3FACXP',\n",
    "'NP3RIGN',\n",
    "'NP3RIGRU',\n",
    "'NP3RIGLU',\n",
    "'NP3RIGRL',\n",
    "'NP3RIGLL',\n",
    "'NP3FTAPR',\n",
    "'NP3FTAPL',\n",
    "'NP3HMOVR',\n",
    "'NP3HMOVL',\n",
    "'NP3PRSPR',\n",
    "'NP3PRSPL',\n",
    "'NP3TTAPR',\n",
    "'NP3TTAPL',\n",
    "'NP3LGAGR',\n",
    "'NP3LGAGL',\n",
    "'NP3RISNG',\n",
    "'NP3GAIT',\n",
    "'NP3FRZGT',\n",
    "'NP3PSTBL',\n",
    "'NP3POSTR',\n",
    "'NP3BRADY',\n",
    "'NP3PTRMR',\n",
    "'NP3PTRML',\n",
    "'NP3KTRMR',\n",
    "'NP3KTRML',\n",
    "'NP3RTARU',\n",
    "'NP3RTALU',\n",
    "'NP3RTARL',\n",
    "'NP3RTALL',\n",
    "'NP3RTALJ',\n",
    "'NP3RTCON',\n",
    "'NP3TOT',\n",
    "'SDMTOTAL', # Symbol Digit Modalities,  Neuropsychological Test, tot\n",
    "'STAI_TOT', # State-Trait Anxiety Inventory for Adults tot \n",
    "'SFT_TOT', # Semantic Fluency tot\n",
    "'SCOPA_AUT_TOT', #SCOPA-AUT, autonomic test, Lower score means better.\n",
    "'REMSLEEP_TOT', # REM Sleep Behavior Questionnaire\n",
    "'QUIP_A', # This is a questionnaire about gambling, buying, etc. It is a nerobehavioral questionnaire.\n",
    "'QUIP_B',\n",
    "'QUIP_C',\n",
    "'QUIP_D',\n",
    "'QUIP_E',\n",
    "'UPSIT_TOT', # University_of_Pennsylvania_Smell_Identification_Test__UPSIT\n",
    "'MoCA_score',\n",
    "'LNS_TOT', # Letter Number Sequencing, total score\n",
    "'HVLT_TOT_Recall', # Hopkins Verbal Learning Test， HVLT Immediate/Total Recall\tSum of HVLTRT1 - HVLTRT3\n",
    "'HVLT_DCR_REC',\n",
    "'HVLT_RETENTION',\n",
    "'GDS_TOT', # The Geriatric Depression Scale (GDS) is a 30-item self-report assessment used to identify depression \n",
    "'GDS_Depressed', # if GDS tot >5\n",
    "'ESS_TOT', # Epworth Sleepiness Scale\n",
    "'ESS_Sleepy', # if ESS_ToT>10\n",
    "'BJLOT_TOT', #  Benton Judgement of Line Orientation total score\n",
    "'DATSCAN_CAUDATE_R', # 'CAUDATE_R',\n",
    "'DATSCAN_CAUDATE_L', # 'CAUDATE_L',\n",
    "'DATSCAN_PUTAMEN_R',# 'PUTAMEN_R',\n",
    "'DATSCAN_PUTAMEN_L'# 'PUTAMEN_L']\n",
    "]\n"
   ]
  },
  {
   "cell_type": "code",
   "execution_count": null,
   "metadata": {},
   "outputs": [],
   "source": [
    "print(len(interest_cols))"
   ]
  },
  {
   "cell_type": "code",
   "execution_count": null,
   "metadata": {},
   "outputs": [],
   "source": [
    "from tqdm import tqdm\n",
    "def process_multi_rows(pat, visit, df):\n",
    "    # print(\"Working on\",pat,visit)\n",
    "    \n",
    "    if len(df)<=1: \n",
    "        print('yes')\n",
    "#         print(\"Length of selection for \",pat,visit,\" is \",len(df))\n",
    "        return df\n",
    "    res_row=df.iloc[0]\n",
    "#     info_dt = df_sig[(df_sig['PATNO']==pat) & (df_sig['EVENT_ID']==visit)]['INFODT'].values[0]\n",
    "#     res_row['INFODT'] = pd.to_datetime(info_dt, format='%m/%Y')\n",
    "#     res_row['INFODT'] = res_row['INFODT'].strftime('%m/%Y')\n",
    "\n",
    "    for col in interest_cols:\n",
    "            cur_col=df[col]\n",
    "            for i in cur_col:\n",
    "                if isinstance(i,str) or not np.isnan(i):\n",
    "                    res_row[col]=i\n",
    "                    break\n",
    "    df = df.drop(df[(df['PATNO']==pat) & (df['EVENT_ID']==visit)].index)\n",
    "    # df = df.append(res_row)\n",
    "    df = pd.concat([df,res_row], ignore_index=True)\n",
    "\n",
    "    return df"
   ]
  },
  {
   "cell_type": "code",
   "execution_count": null,
   "metadata": {},
   "outputs": [],
   "source": [
    "for i in tqdm(range(len(reconcile_pn))):\n",
    "    rec = df[(df.PATNO==reconcile_pn[i]) & (df.EVENT_ID==reconcile_ei[i])]\n",
    "    test = process_multi_rows(reconcile_pn[i], reconcile_ei[i], rec)\n",
    "    pd_on = pd.concat([pd_on,test], ignore_index=True)"
   ]
  },
  {
   "cell_type": "code",
   "execution_count": null,
   "metadata": {},
   "outputs": [],
   "source": [
    "#create a dataframe of only healthy controls\n",
    "hc = pd.DataFrame(columns = df.columns)\n",
    "reconcile_pn = []\n",
    "reconcile_ei = []\n",
    "for pn in hc_ids:\n",
    "    for ei in df[df.PATNO==pn].EVENT_ID.unique():\n",
    "        rec = df[(df.PATNO==pn) & (df.EVENT_ID==ei)]\n",
    "        if len(rec) > 1:\n",
    "            # print(pn, ei)\n",
    "            reconcile_pn.append(pn)\n",
    "            reconcile_ei.append(ei)\n",
    "        else:\n",
    "            hc = pd.concat([hc, rec],ignore_index=True)"
   ]
  },
  {
   "cell_type": "code",
   "execution_count": null,
   "metadata": {},
   "outputs": [],
   "source": [
    "for i in range(len(reconcile_pn)):\n",
    "    rec = df[(df.PATNO==reconcile_pn[i]) & (df.EVENT_ID==reconcile_ei[i])]\n",
    "    test = process_multi_rows(reconcile_pn[i], reconcile_ei[i], rec)\n",
    "    hc = pd.concat([hc,test], ignore_index=True)"
   ]
  },
  {
   "cell_type": "code",
   "execution_count": null,
   "metadata": {},
   "outputs": [],
   "source": [
    "print(len(hc))\n",
    "print(len(hc['PATNO'].unique()))\n",
    "pd_on = pd_on.drop(index=pd_on[pd_on.INFODT.isnull()].index)\n",
    "print(len(pd_on))\n",
    "print(len(pd_on['PATNO'].unique()))\n"
   ]
  },
  {
   "cell_type": "code",
   "execution_count": null,
   "metadata": {},
   "outputs": [],
   "source": [
    "pd_on.to_csv(path+'pd_on.csv', index=False)\n",
    "hc.to_csv(path+'hc.csv', index=False)"
   ]
  },
  {
   "cell_type": "code",
   "execution_count": null,
   "metadata": {},
   "outputs": [],
   "source": []
  }
 ],
 "metadata": {
  "kernelspec": {
   "display_name": "Python 3",
   "language": "python",
   "name": "python3"
  },
  "language_info": {
   "codemirror_mode": {
    "name": "ipython",
    "version": 3
   },
   "file_extension": ".py",
   "mimetype": "text/x-python",
   "name": "python",
   "nbconvert_exporter": "python",
   "pygments_lexer": "ipython3",
   "version": "3.10.9"
  }
 },
 "nbformat": 4,
 "nbformat_minor": 2
}
