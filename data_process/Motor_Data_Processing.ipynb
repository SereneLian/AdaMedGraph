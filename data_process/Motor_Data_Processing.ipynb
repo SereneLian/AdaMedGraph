{
 "cells": [
  {
   "cell_type": "code",
   "execution_count": 2,
   "metadata": {},
   "outputs": [],
   "source": [
    "import pandas as pd"
   ]
  },
  {
   "cell_type": "markdown",
   "metadata": {},
   "source": [
    "## Motor data\n",
    "### MDS-UPDRS and Modified Schwab and England ADL"
   ]
  },
  {
   "cell_type": "code",
   "execution_count": 4,
   "metadata": {},
   "outputs": [
    {
     "name": "stderr",
     "output_type": "stream",
     "text": [
      "/Users/serenelian/Downloads/ENTER/envs/lunggraph/lib/python3.8/site-packages/IPython/core/interactiveshell.py:3155: DtypeWarning: Columns (10) have mixed types.Specify dtype option on import or set low_memory=False.\n",
      "  has_raised = await self.run_ast_nodes(code_ast.body, cell_name,\n"
     ]
    }
   ],
   "source": [
    "path = ''\n",
    "mds1a = pd.read_csv(path + 'MDS-UPDRS_Part_I.csv')\n",
    "mds1b = pd.read_csv(path + 'MDS-UPDRS_Part_I_Patient_Questionnaire.csv')\n",
    "mds2 = pd.read_csv(path + 'MDS_UPDRS_Part_II__Patient_Questionnaire.csv')\n",
    "mds3 = pd.read_csv(path + 'MDS_UPDRS_Part_III.csv')\n",
    "mds4 = pd.read_csv(path + 'MDS-UPDRS_Part_IV.csv')\n",
    "mse = pd.read_csv(path + 'Modified_Schwab___England_Activities_of_Daily_Living.csv')"
   ]
  },
  {
   "cell_type": "markdown",
   "metadata": {},
   "source": [
    "There are several files that contribute to the overall motor assesment score. The score is the 'Unified Parkinson's Disease Rating Scale' (https://www.movementdisorders.org/MDS-Files1/PDFs/Rating-Scales/MDS-UPDRS_English_FINAL.pdf). All the questions are supposed to reference the patient's experience over the past week."
   ]
  },
  {
   "cell_type": "code",
   "execution_count": 8,
   "metadata": {},
   "outputs": [
    {
     "data": {
      "text/plain": [
       "NUPDRS3     14216\n",
       "NUPDR3ON     1868\n",
       "NUPDRS3A     1861\n",
       "NUPDR3OF     1751\n",
       "Name: PAG_NAME, dtype: int64"
      ]
     },
     "execution_count": 8,
     "metadata": {},
     "output_type": "execute_result"
    }
   ],
   "source": [
    "mds3['PAG_NAME'].value_counts()"
   ]
  },
  {
   "cell_type": "code",
   "execution_count": 7,
   "metadata": {},
   "outputs": [],
   "source": [
    "mds1a = mds1a.drop(columns=['REC_ID', 'PAG_NAME', 'NUPSOURC', 'ORIG_ENTRY', 'LAST_UPDATE'])\n",
    "mds1b = mds1b.drop(columns=['REC_ID', 'PAG_NAME', 'NUPSOURC', 'ORIG_ENTRY', 'LAST_UPDATE'])"
   ]
  },
  {
   "cell_type": "code",
   "execution_count": 9,
   "metadata": {},
   "outputs": [
    {
     "data": {
      "text/html": [
       "<div>\n",
       "<style scoped>\n",
       "    .dataframe tbody tr th:only-of-type {\n",
       "        vertical-align: middle;\n",
       "    }\n",
       "\n",
       "    .dataframe tbody tr th {\n",
       "        vertical-align: top;\n",
       "    }\n",
       "\n",
       "    .dataframe thead th {\n",
       "        text-align: right;\n",
       "    }\n",
       "</style>\n",
       "<table border=\"1\" class=\"dataframe\">\n",
       "  <thead>\n",
       "    <tr style=\"text-align: right;\">\n",
       "      <th></th>\n",
       "      <th>PATNO</th>\n",
       "      <th>EVENT_ID</th>\n",
       "      <th>INFODT</th>\n",
       "      <th>NP2SPCH</th>\n",
       "      <th>NP2SALV</th>\n",
       "      <th>NP2SWAL</th>\n",
       "      <th>NP2EAT</th>\n",
       "      <th>NP2DRES</th>\n",
       "      <th>NP2HYGN</th>\n",
       "      <th>NP2HWRT</th>\n",
       "      <th>NP2HOBB</th>\n",
       "      <th>NP2TURN</th>\n",
       "      <th>NP2TRMR</th>\n",
       "      <th>NP2RISE</th>\n",
       "      <th>NP2WALK</th>\n",
       "      <th>NP2FREZ</th>\n",
       "      <th>NP2PTOT</th>\n",
       "    </tr>\n",
       "  </thead>\n",
       "  <tbody>\n",
       "    <tr>\n",
       "      <th>0</th>\n",
       "      <td>3000</td>\n",
       "      <td>BL</td>\n",
       "      <td>02/2011</td>\n",
       "      <td>0.0</td>\n",
       "      <td>0.0</td>\n",
       "      <td>0.0</td>\n",
       "      <td>0.0</td>\n",
       "      <td>0.0</td>\n",
       "      <td>0.0</td>\n",
       "      <td>0.0</td>\n",
       "      <td>0.0</td>\n",
       "      <td>0.0</td>\n",
       "      <td>0.0</td>\n",
       "      <td>0.0</td>\n",
       "      <td>0.0</td>\n",
       "      <td>0.0</td>\n",
       "      <td>0.0</td>\n",
       "    </tr>\n",
       "    <tr>\n",
       "      <th>1</th>\n",
       "      <td>3000</td>\n",
       "      <td>V04</td>\n",
       "      <td>03/2012</td>\n",
       "      <td>0.0</td>\n",
       "      <td>0.0</td>\n",
       "      <td>0.0</td>\n",
       "      <td>0.0</td>\n",
       "      <td>0.0</td>\n",
       "      <td>0.0</td>\n",
       "      <td>0.0</td>\n",
       "      <td>0.0</td>\n",
       "      <td>0.0</td>\n",
       "      <td>0.0</td>\n",
       "      <td>0.0</td>\n",
       "      <td>0.0</td>\n",
       "      <td>0.0</td>\n",
       "      <td>0.0</td>\n",
       "    </tr>\n",
       "    <tr>\n",
       "      <th>2</th>\n",
       "      <td>3000</td>\n",
       "      <td>V06</td>\n",
       "      <td>02/2013</td>\n",
       "      <td>0.0</td>\n",
       "      <td>0.0</td>\n",
       "      <td>0.0</td>\n",
       "      <td>0.0</td>\n",
       "      <td>0.0</td>\n",
       "      <td>0.0</td>\n",
       "      <td>0.0</td>\n",
       "      <td>0.0</td>\n",
       "      <td>0.0</td>\n",
       "      <td>0.0</td>\n",
       "      <td>0.0</td>\n",
       "      <td>0.0</td>\n",
       "      <td>0.0</td>\n",
       "      <td>0.0</td>\n",
       "    </tr>\n",
       "    <tr>\n",
       "      <th>3</th>\n",
       "      <td>3000</td>\n",
       "      <td>V08</td>\n",
       "      <td>03/2014</td>\n",
       "      <td>0.0</td>\n",
       "      <td>0.0</td>\n",
       "      <td>0.0</td>\n",
       "      <td>0.0</td>\n",
       "      <td>0.0</td>\n",
       "      <td>0.0</td>\n",
       "      <td>0.0</td>\n",
       "      <td>0.0</td>\n",
       "      <td>0.0</td>\n",
       "      <td>0.0</td>\n",
       "      <td>0.0</td>\n",
       "      <td>0.0</td>\n",
       "      <td>0.0</td>\n",
       "      <td>0.0</td>\n",
       "    </tr>\n",
       "    <tr>\n",
       "      <th>4</th>\n",
       "      <td>3000</td>\n",
       "      <td>V10</td>\n",
       "      <td>03/2015</td>\n",
       "      <td>0.0</td>\n",
       "      <td>0.0</td>\n",
       "      <td>0.0</td>\n",
       "      <td>0.0</td>\n",
       "      <td>0.0</td>\n",
       "      <td>0.0</td>\n",
       "      <td>0.0</td>\n",
       "      <td>0.0</td>\n",
       "      <td>0.0</td>\n",
       "      <td>0.0</td>\n",
       "      <td>0.0</td>\n",
       "      <td>0.0</td>\n",
       "      <td>0.0</td>\n",
       "      <td>0.0</td>\n",
       "    </tr>\n",
       "  </tbody>\n",
       "</table>\n",
       "</div>"
      ],
      "text/plain": [
       "   PATNO EVENT_ID   INFODT  NP2SPCH  NP2SALV  NP2SWAL  NP2EAT  NP2DRES  \\\n",
       "0   3000       BL  02/2011      0.0      0.0      0.0     0.0      0.0   \n",
       "1   3000      V04  03/2012      0.0      0.0      0.0     0.0      0.0   \n",
       "2   3000      V06  02/2013      0.0      0.0      0.0     0.0      0.0   \n",
       "3   3000      V08  03/2014      0.0      0.0      0.0     0.0      0.0   \n",
       "4   3000      V10  03/2015      0.0      0.0      0.0     0.0      0.0   \n",
       "\n",
       "   NP2HYGN  NP2HWRT  NP2HOBB  NP2TURN  NP2TRMR  NP2RISE  NP2WALK  NP2FREZ  \\\n",
       "0      0.0      0.0      0.0      0.0      0.0      0.0      0.0      0.0   \n",
       "1      0.0      0.0      0.0      0.0      0.0      0.0      0.0      0.0   \n",
       "2      0.0      0.0      0.0      0.0      0.0      0.0      0.0      0.0   \n",
       "3      0.0      0.0      0.0      0.0      0.0      0.0      0.0      0.0   \n",
       "4      0.0      0.0      0.0      0.0      0.0      0.0      0.0      0.0   \n",
       "\n",
       "   NP2PTOT  \n",
       "0      0.0  \n",
       "1      0.0  \n",
       "2      0.0  \n",
       "3      0.0  \n",
       "4      0.0  "
      ]
     },
     "execution_count": 9,
     "metadata": {},
     "output_type": "execute_result"
    }
   ],
   "source": [
    "mds2 = mds2.drop(columns=['REC_ID', 'PAG_NAME', 'NUPSOURC', 'ORIG_ENTRY', 'LAST_UPDATE'])\n",
    "mds2.head()"
   ]
  },
  {
   "cell_type": "code",
   "execution_count": 11,
   "metadata": {},
   "outputs": [],
   "source": [
    "# note that page name for the updrs part 3 should not be dropped because it describes whether on or off testing is performed during annual visits\n",
    "mds3 = mds3.drop(columns=['REC_ID', 'ORIG_ENTRY', 'LAST_UPDATE'])\n",
    "\n",
    "mds4 = mds4.drop(columns=['REC_ID',  'PAG_NAME', 'ORIG_ENTRY', 'LAST_UPDATE'])\n",
    "mse = mse.drop(columns=['REC_ID', 'PAG_NAME', 'ORIG_ENTRY', 'LAST_UPDATE'])\n"
   ]
  },
  {
   "cell_type": "code",
   "execution_count": 14,
   "metadata": {},
   "outputs": [],
   "source": [
    "UPDRS = mds1a.merge(mds1b, how='outer', on=['PATNO','EVENT_ID','INFODT'])\n",
    "UPDRS = UPDRS.merge(mds2, how='outer', on=['PATNO', 'EVENT_ID', 'INFODT'])\n",
    "UPDRS = UPDRS.merge(mds3, how='outer', on=['PATNO', 'EVENT_ID', 'INFODT'])\n",
    "UPDRS = UPDRS.merge(mds4, how='outer', on=['PATNO', 'EVENT_ID', 'INFODT'])\n",
    "UPDRS = UPDRS.merge(mse, how='outer', on=['PATNO', 'EVENT_ID', 'INFODT'])"
   ]
  },
  {
   "cell_type": "code",
   "execution_count": 15,
   "metadata": {},
   "outputs": [],
   "source": [
    "# save processed file\n",
    "UPDRS.to_csv(path+'/processed/motor.csv', index=False)"
   ]
  }
 ],
 "metadata": {
  "kernelspec": {
   "display_name": "Python 3",
   "language": "python",
   "name": "python3"
  },
  "language_info": {
   "codemirror_mode": {
    "name": "ipython",
    "version": 3
   },
   "file_extension": ".py",
   "mimetype": "text/x-python",
   "name": "python",
   "nbconvert_exporter": "python",
   "pygments_lexer": "ipython3",
   "version": "3.8.5"
  }
 },
 "nbformat": 4,
 "nbformat_minor": 2
}
